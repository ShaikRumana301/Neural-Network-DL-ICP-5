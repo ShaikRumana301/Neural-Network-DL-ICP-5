{
 "cells": [
  {
   "cell_type": "code",
   "execution_count": 10,
   "metadata": {},
   "outputs": [
    {
     "name": "stdout",
     "output_type": "stream",
     "text": [
      "Classification Report:\n",
      "               precision    recall  f1-score   support\n",
      "\n",
      "           1       0.19      0.44      0.27         9\n",
      "           2       0.33      0.16      0.21        19\n",
      "           3       0.33      0.20      0.25         5\n",
      "           5       0.00      0.00      0.00         2\n",
      "           6       0.67      1.00      0.80         2\n",
      "           7       1.00      1.00      1.00         6\n",
      "\n",
      "    accuracy                           0.37        43\n",
      "   macro avg       0.42      0.47      0.42        43\n",
      "weighted avg       0.40      0.37      0.36        43\n",
      "\n",
      "Accuracy of Naive Bayes is: 37.2093023255814\n"
     ]
    }
   ],
   "source": [
    "import pandas as pd\n",
    "from sklearn.model_selection import train_test_split\n",
    "from sklearn.naive_bayes import GaussianNB\n",
    "from sklearn.metrics import accuracy_score, classification_report\n",
    "\n",
    "# Loading the Glass dataset\n",
    "glass = pd.read_csv('glass.csv')\n",
    "x = glass.drop(\"Type\", axis=1)\n",
    "y = glass['Type']\n",
    "\n",
    "# splitting train and test data using train_test_split\n",
    "x_train, x_test, y_train, y_test = train_test_split(x, y, test_size=0.2, random_state=0)\n",
    "\n",
    "# Initializing the Naive Bayes model\n",
    "gnb_model = GaussianNB()\n",
    "\n",
    "# Train the model on the training set\n",
    "gnb_model.fit(x_train, y_train)\n",
    "\n",
    "# Make predictions on the test set\n",
    "y_pred = gnb_model.predict(x_test)\n",
    "\n",
    "# Evaluate model and calculating accuracy\n",
    "accuracy = accuracy_score(y_test, y_pred)*100\n",
    "\n",
    "#classification report\n",
    "classification_report_gnb = classification_report(y_test, y_pred)\n",
    "\n",
    "# Print the Accuracy and classification report\n",
    "print(\"Classification Report:\\n\", classification_report_gnb)\n",
    "print(\"Accuracy of Naive Bayes is:\", accuracy)\n"
   ]
  },
  {
   "cell_type": "code",
   "execution_count": 11,
   "metadata": {},
   "outputs": [
    {
     "name": "stdout",
     "output_type": "stream",
     "text": [
      "Classification Report:\n",
      "               precision    recall  f1-score   support\n",
      "\n",
      "           1       0.21      1.00      0.35         9\n",
      "           2       0.00      0.00      0.00        19\n",
      "           3       0.00      0.00      0.00         5\n",
      "           5       0.00      0.00      0.00         2\n",
      "           6       0.00      0.00      0.00         2\n",
      "           7       0.00      0.00      0.00         6\n",
      "\n",
      "    accuracy                           0.21        43\n",
      "   macro avg       0.03      0.17      0.06        43\n",
      "weighted avg       0.04      0.21      0.07        43\n",
      "\n",
      "Accuracy of SVM is: 20.930232558139537\n"
     ]
    }
   ],
   "source": [
    "import pandas as pd\n",
    "from sklearn.model_selection import train_test_split\n",
    "from sklearn.svm import SVC\n",
    "from sklearn.metrics import accuracy_score, classification_report\n",
    "\n",
    "# Loading the Glass dataset\n",
    "glass = pd.read_csv('glass.csv')\n",
    "x = glass.drop(\"Type\", axis=1)\n",
    "y = glass['Type']\n",
    "\n",
    "# splitting train and test data using train_test_split\n",
    "x_train, x_test, y_train, y_test = train_test_split(x, y, test_size=0.2, random_state=0)\n",
    "\n",
    "#using the SVM method\n",
    "svm = SVC()\n",
    "\n",
    "# Train the model on the training set\n",
    "svm.fit(x_train, y_train)\n",
    "\n",
    "# Make predictions on the test set\n",
    "y_pred = svm.predict(x_test)\n",
    "\n",
    "# Evaluate model and calculating accuracy\n",
    "accuracy = accuracy_score(y_test, y_pred)*100\n",
    "\n",
    "# Classification report \n",
    "classification_report_output = classification_report(y_test, y_pred, zero_division=0)\n",
    "\n",
    "# Print the Accuracy and classification report\n",
    "print(\"Classification Report:\\n\", classification_report_output)\n",
    "print(\"Accuracy of SVM is:\", accuracy)"
   ]
  },
  {
   "cell_type": "code",
   "execution_count": null,
   "metadata": {},
   "outputs": [],
   "source": []
  }
 ],
 "metadata": {
  "kernelspec": {
   "display_name": "Python 3",
   "language": "python",
   "name": "python3"
  },
  "language_info": {
   "codemirror_mode": {
    "name": "ipython",
    "version": 3
   },
   "file_extension": ".py",
   "mimetype": "text/x-python",
   "name": "python",
   "nbconvert_exporter": "python",
   "pygments_lexer": "ipython3",
   "version": "3.8.5"
  }
 },
 "nbformat": 4,
 "nbformat_minor": 4
}
